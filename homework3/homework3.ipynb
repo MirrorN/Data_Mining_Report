{
 "cells": [
  {
   "cell_type": "markdown",
   "metadata": {},
   "source": [
    "## 互评作业三\n",
    "\n",
    "\n",
    "代码地址：\n",
    "使用数据集：Hotel booking demand\n",
    "\n",
    "问题探索：\n",
    " - 基本情况：城市酒店和假期酒店预订需求和入住率比较\n",
    " - 用户行为：提前预定时间、入住时长、预定间隔、餐食预定情况\n",
    " - 一年中最佳预定酒店时间\n",
    " - 利用Logistic预测酒店预订"
   ]
  },
  {
   "cell_type": "code",
   "execution_count": 69,
   "metadata": {},
   "outputs": [],
   "source": [
    "import pandas as pd\n",
    "import numpy as np\n",
    "import math\n",
    "import matplotlib.pyplot as plt\n",
    "import collections"
   ]
  },
  {
   "cell_type": "code",
   "execution_count": 32,
   "metadata": {},
   "outputs": [
    {
     "data": {
      "text/html": [
       "<div>\n",
       "<style scoped>\n",
       "    .dataframe tbody tr th:only-of-type {\n",
       "        vertical-align: middle;\n",
       "    }\n",
       "\n",
       "    .dataframe tbody tr th {\n",
       "        vertical-align: top;\n",
       "    }\n",
       "\n",
       "    .dataframe thead th {\n",
       "        text-align: right;\n",
       "    }\n",
       "</style>\n",
       "<table border=\"1\" class=\"dataframe\">\n",
       "  <thead>\n",
       "    <tr style=\"text-align: right;\">\n",
       "      <th></th>\n",
       "      <th>hotel</th>\n",
       "      <th>is_canceled</th>\n",
       "      <th>lead_time</th>\n",
       "      <th>arrival_date_year</th>\n",
       "      <th>arrival_date_month</th>\n",
       "      <th>arrival_date_week_number</th>\n",
       "      <th>arrival_date_day_of_month</th>\n",
       "      <th>stays_in_weekend_nights</th>\n",
       "      <th>stays_in_week_nights</th>\n",
       "      <th>adults</th>\n",
       "      <th>...</th>\n",
       "      <th>deposit_type</th>\n",
       "      <th>agent</th>\n",
       "      <th>company</th>\n",
       "      <th>days_in_waiting_list</th>\n",
       "      <th>customer_type</th>\n",
       "      <th>adr</th>\n",
       "      <th>required_car_parking_spaces</th>\n",
       "      <th>total_of_special_requests</th>\n",
       "      <th>reservation_status</th>\n",
       "      <th>reservation_status_date</th>\n",
       "    </tr>\n",
       "  </thead>\n",
       "  <tbody>\n",
       "    <tr>\n",
       "      <td>0</td>\n",
       "      <td>Resort Hotel</td>\n",
       "      <td>0</td>\n",
       "      <td>342</td>\n",
       "      <td>2015</td>\n",
       "      <td>July</td>\n",
       "      <td>27</td>\n",
       "      <td>1</td>\n",
       "      <td>0</td>\n",
       "      <td>0</td>\n",
       "      <td>2</td>\n",
       "      <td>...</td>\n",
       "      <td>No Deposit</td>\n",
       "      <td>NaN</td>\n",
       "      <td>NaN</td>\n",
       "      <td>0</td>\n",
       "      <td>Transient</td>\n",
       "      <td>0.0</td>\n",
       "      <td>0</td>\n",
       "      <td>0</td>\n",
       "      <td>Check-Out</td>\n",
       "      <td>2015-07-01</td>\n",
       "    </tr>\n",
       "    <tr>\n",
       "      <td>1</td>\n",
       "      <td>Resort Hotel</td>\n",
       "      <td>0</td>\n",
       "      <td>737</td>\n",
       "      <td>2015</td>\n",
       "      <td>July</td>\n",
       "      <td>27</td>\n",
       "      <td>1</td>\n",
       "      <td>0</td>\n",
       "      <td>0</td>\n",
       "      <td>2</td>\n",
       "      <td>...</td>\n",
       "      <td>No Deposit</td>\n",
       "      <td>NaN</td>\n",
       "      <td>NaN</td>\n",
       "      <td>0</td>\n",
       "      <td>Transient</td>\n",
       "      <td>0.0</td>\n",
       "      <td>0</td>\n",
       "      <td>0</td>\n",
       "      <td>Check-Out</td>\n",
       "      <td>2015-07-01</td>\n",
       "    </tr>\n",
       "    <tr>\n",
       "      <td>2</td>\n",
       "      <td>Resort Hotel</td>\n",
       "      <td>0</td>\n",
       "      <td>7</td>\n",
       "      <td>2015</td>\n",
       "      <td>July</td>\n",
       "      <td>27</td>\n",
       "      <td>1</td>\n",
       "      <td>0</td>\n",
       "      <td>1</td>\n",
       "      <td>1</td>\n",
       "      <td>...</td>\n",
       "      <td>No Deposit</td>\n",
       "      <td>NaN</td>\n",
       "      <td>NaN</td>\n",
       "      <td>0</td>\n",
       "      <td>Transient</td>\n",
       "      <td>75.0</td>\n",
       "      <td>0</td>\n",
       "      <td>0</td>\n",
       "      <td>Check-Out</td>\n",
       "      <td>2015-07-02</td>\n",
       "    </tr>\n",
       "    <tr>\n",
       "      <td>3</td>\n",
       "      <td>Resort Hotel</td>\n",
       "      <td>0</td>\n",
       "      <td>13</td>\n",
       "      <td>2015</td>\n",
       "      <td>July</td>\n",
       "      <td>27</td>\n",
       "      <td>1</td>\n",
       "      <td>0</td>\n",
       "      <td>1</td>\n",
       "      <td>1</td>\n",
       "      <td>...</td>\n",
       "      <td>No Deposit</td>\n",
       "      <td>304.0</td>\n",
       "      <td>NaN</td>\n",
       "      <td>0</td>\n",
       "      <td>Transient</td>\n",
       "      <td>75.0</td>\n",
       "      <td>0</td>\n",
       "      <td>0</td>\n",
       "      <td>Check-Out</td>\n",
       "      <td>2015-07-02</td>\n",
       "    </tr>\n",
       "    <tr>\n",
       "      <td>4</td>\n",
       "      <td>Resort Hotel</td>\n",
       "      <td>0</td>\n",
       "      <td>14</td>\n",
       "      <td>2015</td>\n",
       "      <td>July</td>\n",
       "      <td>27</td>\n",
       "      <td>1</td>\n",
       "      <td>0</td>\n",
       "      <td>2</td>\n",
       "      <td>2</td>\n",
       "      <td>...</td>\n",
       "      <td>No Deposit</td>\n",
       "      <td>240.0</td>\n",
       "      <td>NaN</td>\n",
       "      <td>0</td>\n",
       "      <td>Transient</td>\n",
       "      <td>98.0</td>\n",
       "      <td>0</td>\n",
       "      <td>1</td>\n",
       "      <td>Check-Out</td>\n",
       "      <td>2015-07-03</td>\n",
       "    </tr>\n",
       "  </tbody>\n",
       "</table>\n",
       "<p>5 rows × 32 columns</p>\n",
       "</div>"
      ],
      "text/plain": [
       "          hotel  is_canceled  lead_time  arrival_date_year arrival_date_month  \\\n",
       "0  Resort Hotel            0        342               2015               July   \n",
       "1  Resort Hotel            0        737               2015               July   \n",
       "2  Resort Hotel            0          7               2015               July   \n",
       "3  Resort Hotel            0         13               2015               July   \n",
       "4  Resort Hotel            0         14               2015               July   \n",
       "\n",
       "   arrival_date_week_number  arrival_date_day_of_month  \\\n",
       "0                        27                          1   \n",
       "1                        27                          1   \n",
       "2                        27                          1   \n",
       "3                        27                          1   \n",
       "4                        27                          1   \n",
       "\n",
       "   stays_in_weekend_nights  stays_in_week_nights  adults  ...  deposit_type  \\\n",
       "0                        0                     0       2  ...    No Deposit   \n",
       "1                        0                     0       2  ...    No Deposit   \n",
       "2                        0                     1       1  ...    No Deposit   \n",
       "3                        0                     1       1  ...    No Deposit   \n",
       "4                        0                     2       2  ...    No Deposit   \n",
       "\n",
       "   agent company days_in_waiting_list customer_type   adr  \\\n",
       "0    NaN     NaN                    0     Transient   0.0   \n",
       "1    NaN     NaN                    0     Transient   0.0   \n",
       "2    NaN     NaN                    0     Transient  75.0   \n",
       "3  304.0     NaN                    0     Transient  75.0   \n",
       "4  240.0     NaN                    0     Transient  98.0   \n",
       "\n",
       "   required_car_parking_spaces  total_of_special_requests  reservation_status  \\\n",
       "0                            0                          0           Check-Out   \n",
       "1                            0                          0           Check-Out   \n",
       "2                            0                          0           Check-Out   \n",
       "3                            0                          0           Check-Out   \n",
       "4                            0                          1           Check-Out   \n",
       "\n",
       "  reservation_status_date  \n",
       "0              2015-07-01  \n",
       "1              2015-07-01  \n",
       "2              2015-07-02  \n",
       "3              2015-07-02  \n",
       "4              2015-07-03  \n",
       "\n",
       "[5 rows x 32 columns]"
      ]
     },
     "execution_count": 32,
     "metadata": {},
     "output_type": "execute_result"
    }
   ],
   "source": [
    "# 数据信息以及缺失值筛选\n",
    "data = pd.read_csv(\"hotel_bookings.csv\")\n",
    "data.head()"
   ]
  },
  {
   "cell_type": "code",
   "execution_count": 33,
   "metadata": {},
   "outputs": [
    {
     "name": "stdout",
     "output_type": "stream",
     "text": [
      "<class 'pandas.core.frame.DataFrame'>\n",
      "RangeIndex: 119390 entries, 0 to 119389\n",
      "Data columns (total 32 columns):\n",
      "hotel                             119390 non-null object\n",
      "is_canceled                       119390 non-null int64\n",
      "lead_time                         119390 non-null int64\n",
      "arrival_date_year                 119390 non-null int64\n",
      "arrival_date_month                119390 non-null object\n",
      "arrival_date_week_number          119390 non-null int64\n",
      "arrival_date_day_of_month         119390 non-null int64\n",
      "stays_in_weekend_nights           119390 non-null int64\n",
      "stays_in_week_nights              119390 non-null int64\n",
      "adults                            119390 non-null int64\n",
      "children                          119386 non-null float64\n",
      "babies                            119390 non-null int64\n",
      "meal                              119390 non-null object\n",
      "country                           118902 non-null object\n",
      "market_segment                    119390 non-null object\n",
      "distribution_channel              119390 non-null object\n",
      "is_repeated_guest                 119390 non-null int64\n",
      "previous_cancellations            119390 non-null int64\n",
      "previous_bookings_not_canceled    119390 non-null int64\n",
      "reserved_room_type                119390 non-null object\n",
      "assigned_room_type                119390 non-null object\n",
      "booking_changes                   119390 non-null int64\n",
      "deposit_type                      119390 non-null object\n",
      "agent                             103050 non-null float64\n",
      "company                           6797 non-null float64\n",
      "days_in_waiting_list              119390 non-null int64\n",
      "customer_type                     119390 non-null object\n",
      "adr                               119390 non-null float64\n",
      "required_car_parking_spaces       119390 non-null int64\n",
      "total_of_special_requests         119390 non-null int64\n",
      "reservation_status                119390 non-null object\n",
      "reservation_status_date           119390 non-null object\n",
      "dtypes: float64(4), int64(16), object(12)\n",
      "memory usage: 29.1+ MB\n"
     ]
    }
   ],
   "source": [
    "data.shape\n",
    "data.dtypes\n",
    "data.info()"
   ]
  },
  {
   "cell_type": "code",
   "execution_count": 34,
   "metadata": {},
   "outputs": [
    {
     "data": {
      "text/plain": [
       "hotel                             False\n",
       "is_canceled                       False\n",
       "lead_time                         False\n",
       "arrival_date_year                 False\n",
       "arrival_date_month                False\n",
       "arrival_date_week_number          False\n",
       "arrival_date_day_of_month         False\n",
       "stays_in_weekend_nights           False\n",
       "stays_in_week_nights              False\n",
       "adults                            False\n",
       "children                           True\n",
       "babies                            False\n",
       "meal                              False\n",
       "country                            True\n",
       "market_segment                    False\n",
       "distribution_channel              False\n",
       "is_repeated_guest                 False\n",
       "previous_cancellations            False\n",
       "previous_bookings_not_canceled    False\n",
       "reserved_room_type                False\n",
       "assigned_room_type                False\n",
       "booking_changes                   False\n",
       "deposit_type                      False\n",
       "agent                              True\n",
       "company                            True\n",
       "days_in_waiting_list              False\n",
       "customer_type                     False\n",
       "adr                               False\n",
       "required_car_parking_spaces       False\n",
       "total_of_special_requests         False\n",
       "reservation_status                False\n",
       "reservation_status_date           False\n",
       "dtype: bool"
      ]
     },
     "execution_count": 34,
     "metadata": {},
     "output_type": "execute_result"
    }
   ],
   "source": [
    "data.isnull().any()"
   ]
  },
  {
   "cell_type": "code",
   "execution_count": 35,
   "metadata": {},
   "outputs": [
    {
     "name": "stdout",
     "output_type": "stream",
     "text": [
      "children:  4\n",
      "country:  488\n",
      "agent:  16340\n",
      "company:  112593\n"
     ]
    }
   ],
   "source": [
    "# 含有缺失值的字段有多少缺失值\n",
    "def count_nan(attr_name):\n",
    "    return data[attr_name].isnull().sum(axis=0)\n",
    "print(\"children: \", count_nan('children'))\n",
    "print(\"country: \", count_nan('country'))\n",
    "print(\"agent: \", count_nan('agent'))\n",
    "print(\"company: \", count_nan('company'))"
   ]
  },
  {
   "cell_type": "code",
   "execution_count": 39,
   "metadata": {},
   "outputs": [
    {
     "data": {
      "text/plain": [
       "hotel                             False\n",
       "is_canceled                       False\n",
       "lead_time                         False\n",
       "arrival_date_year                 False\n",
       "arrival_date_month                False\n",
       "arrival_date_week_number          False\n",
       "arrival_date_day_of_month         False\n",
       "stays_in_weekend_nights           False\n",
       "stays_in_week_nights              False\n",
       "adults                            False\n",
       "children                          False\n",
       "babies                            False\n",
       "meal                              False\n",
       "country                           False\n",
       "market_segment                    False\n",
       "distribution_channel              False\n",
       "is_repeated_guest                 False\n",
       "previous_cancellations            False\n",
       "previous_bookings_not_canceled    False\n",
       "reserved_room_type                False\n",
       "assigned_room_type                False\n",
       "booking_changes                   False\n",
       "deposit_type                      False\n",
       "days_in_waiting_list              False\n",
       "customer_type                     False\n",
       "adr                               False\n",
       "required_car_parking_spaces       False\n",
       "total_of_special_requests         False\n",
       "reservation_status                False\n",
       "reservation_status_date           False\n",
       "dtype: bool"
      ]
     },
     "execution_count": 39,
     "metadata": {},
     "output_type": "execute_result"
    }
   ],
   "source": [
    "# 从缺失值情况来看 company 字段下只有200条左右的有效数据 agent 缺失值数量大概在1/5左右 因此这里直接去掉两列数据\n",
    "data.drop('agent', axis=1, inplace=True)\n",
    "data.drop('company', axis=1, inplace=True)\n",
    "data.dropna(axis=0, how='any', inplace=True)\n",
    "data.isnull().any()\n",
    "# data.info()"
   ]
  },
  {
   "cell_type": "markdown",
   "metadata": {},
   "source": [
    "- 城市酒店和假期酒店需求和入住情况比较"
   ]
  },
  {
   "cell_type": "code",
   "execution_count": 40,
   "metadata": {},
   "outputs": [
    {
     "name": "stdout",
     "output_type": "stream",
     "text": [
      "{'Resort Hotel', 'City Hotel'}\n"
     ]
    }
   ],
   "source": [
    "print(set(data['hotel']))"
   ]
  },
  {
   "cell_type": "code",
   "execution_count": 57,
   "metadata": {},
   "outputs": [
    {
     "name": "stdout",
     "output_type": "stream",
     "text": [
      "79302\n",
      "39596\n",
      "46226\n",
      "28519\n"
     ]
    }
   ],
   "source": [
    "city_hotel_total = (data['hotel'] == 'City Hotel').sum()\n",
    "resort_hotel_total = (data['hotel'] == 'Resort Hotel').sum()\n",
    "print(city_hotel_total)\n",
    "print(resort_hotel_total)\n",
    "\n",
    "city_hotel_real = len(data[(data['hotel'] == 'City Hotel') & (data['is_canceled'] == 0)])\n",
    "resort_hotel_real = len(data[(data['hotel'] == 'Resort Hotel') & (data['is_canceled'] == 0)])\n",
    "print(city_hotel_real)\n",
    "print(resort_hotel_real)"
   ]
  },
  {
   "cell_type": "code",
   "execution_count": 58,
   "metadata": {},
   "outputs": [
    {
     "name": "stdout",
     "output_type": "stream",
     "text": [
      "城市酒店入住率： 0.5829108975813977\n",
      "假期酒店入住率： 0.7202495201535508\n"
     ]
    }
   ],
   "source": [
    "print(\"城市酒店入住率：\", city_hotel_real / city_hotel_total)\n",
    "print(\"假期酒店入住率：\", resort_hotel_real / resort_hotel_total)"
   ]
  },
  {
   "cell_type": "markdown",
   "metadata": {},
   "source": [
    "- 提前预定时间、入住时长、预定间隔、餐食预定情况"
   ]
  },
  {
   "cell_type": "code",
   "execution_count": 73,
   "metadata": {},
   "outputs": [
    {
     "data": {
      "image/png": "[encoded data removed]",
      "text/plain": [
       "<Figure size 432x288 with 1 Axes>"
      ]
     },
     "metadata": {
      "needs_background": "light"
     },
     "output_type": "display_data"
    }
   ],
   "source": [
    "# 提前预订时间情况\n",
    "city_hotel_lead_time = data[(data['hotel']=='City Hotel')]['lead_time']\n",
    "\n",
    "res = dict(collections.Counter(city_hotel_lead_time))\n",
    "plt.figure()\n",
    "plt.title('City hotel lead time count')\n",
    "plt.bar(res.keys(), res.values())\n",
    "plt.show()"
   ]
  },
  {
   "cell_type": "code",
   "execution_count": 74,
   "metadata": {},
   "outputs": [
    {
     "data": {
      "image/png": "[encoded data removed]",
      "text/plain": [
       "<Figure size 432x288 with 1 Axes>"
      ]
     },
     "metadata": {
      "needs_background": "light"
     },
     "output_type": "display_data"
    }
   ],
   "source": [
    "resort_hotel_lead_time = data[(data['hotel']=='Resort Hotel')]['lead_time']\n",
    "\n",
    "res = dict(collections.Counter(resort_hotel_lead_time))\n",
    "plt.figure()\n",
    "plt.title('Resort hotel lead time count')\n",
    "plt.bar(res.keys(), res.values())\n",
    "plt.show()"
   ]
  },
  {
   "cell_type": "code",
   "execution_count": 80,
   "metadata": {},
   "outputs": [
    {
     "data": {
      "image/png": "[encoded data removed]",
      "text/plain": [
       "<Figure size 720x360 with 2 Axes>"
      ]
     },
     "metadata": {
      "needs_background": "light"
     },
     "output_type": "display_data"
    }
   ],
   "source": [
    "# 入住时常\n",
    "city_hotel_stay_time_weekend = data[data['hotel']=='City Hotel']['stays_in_weekend_nights']\n",
    "city_hotel_stay_time_weekday = data[data['hotel']=='City Hotel']['stays_in_week_nights']\n",
    "weekend_res = dict(collections.Counter(city_hotel_stay_time_weekend))\n",
    "weekday_res = dict(collections.Counter(city_hotel_stay_time_weekday))\n",
    "\n",
    "plt.figure(figsize=(10, 5))\n",
    "ax1 = plt.subplot(121)\n",
    "ax1.bar(weekend_res.keys(), weekend_res.values())\n",
    "ax1.set_title('city hotel weekend stay time')\n",
    "\n",
    "ax2 = plt.subplot(122)\n",
    "ax2.bar(weekday_res.keys(), weekday_res.values())\n",
    "ax2.set_title('city hotel weekday stay time')\n",
    "\n",
    "plt.show()"
   ]
  },
  {
   "cell_type": "code",
   "execution_count": 82,
   "metadata": {},
   "outputs": [
    {
     "data": {
      "image/png": "[encoded data removed]",
      "text/plain": [
       "<Figure size 720x360 with 2 Axes>"
      ]
     },
     "metadata": {
      "needs_background": "light"
     },
     "output_type": "display_data"
    }
   ],
   "source": [
    "resot_hotel_stay_time_weekend = data[data['hotel']=='Resort Hotel']['stays_in_weekend_nights']\n",
    "resot_hotel_stay_time_weekday = data[data['hotel']=='Resort Hotel']['stays_in_week_nights']\n",
    "weekend_res = dict(collections.Counter(resot_hotel_stay_time_weekend))\n",
    "weekday_res = dict(collections.Counter(resot_hotel_stay_time_weekday))\n",
    "\n",
    "plt.figure(figsize=(10, 5))\n",
    "ax1 = plt.subplot(121)\n",
    "ax1.bar(weekend_res.keys(), weekend_res.values())\n",
    "ax1.set_title('resot hotel weekend stay time')\n",
    "\n",
    "ax2 = plt.subplot(122)\n",
    "ax2.bar(weekday_res.keys(), weekday_res.values())\n",
    "ax2.set_title('resot hotel weekday stay time')\n",
    "\n",
    "plt.show()"
   ]
  },
  {
   "cell_type": "code",
   "execution_count": 97,
   "metadata": {},
   "outputs": [
    {
     "data": {
      "image/png": "[encoded data removed]",
      "text/plain": [
       "<Figure size 864x432 with 1 Axes>"
      ]
     },
     "metadata": {},
     "output_type": "display_data"
    }
   ],
   "source": [
    "# 餐饮比例情况\n",
    "city_hotel_meal = data[data['hotel']=='City Hotel']['meal']\n",
    "meal_res = dict(collections.Counter(city_hotel_meal))\n",
    "\n",
    "recipe_labels = np.array(list(meal_res.keys()))\n",
    "recipe_data = np.array(list(meal_res.values()))\n",
    "\n",
    "# 用来规定输出格式的函数\n",
    "def func(pct, allvals):\n",
    "    absolute = int(pct/100.*np.sum(allvals))\n",
    "    return \"{:.1f}%\\n({:d})\".format(pct, absolute)\n",
    "colors=['#06799f', '#4c8e9e','#3aaacf','#33cccc', '#91cdcb']\n",
    "fig, ax = plt.subplots(figsize=(12, 6))\n",
    "wedges, texts, autotexts = ax.pie(x=recipe_data,\n",
    "                                  labels=recipe_labels,\n",
    "                                  autopct=lambda pct: func(pct ,recipe_data),\n",
    "                                  colors=colors,\n",
    "                                  pctdistance=0.7,\n",
    "                                  wedgeprops = {'width': 0.6, 'linewidth': 1, 'edgecolor':'w'}\n",
    "                                  )\n",
    "ax.legend(wedges, recipe_labels,\n",
    "          title=\"legends\",\n",
    "          title_fontsize=15,\n",
    "          fontsize=17,\n",
    "          loc=\"center left\",\n",
    "          bbox_to_anchor=(1, 0, 0.5, 1))\n",
    "\n",
    "plt.setp(autotexts, size=12, weight=\"bold\")\n",
    "ax.set_title(\"city hotel meal\", fontdict={'fontsize':15, 'fontweight':15})\n",
    "plt.show()"
   ]
  },
  {
   "cell_type": "code",
   "execution_count": 99,
   "metadata": {},
   "outputs": [
    {
     "data": {
      "image/png": "[encoded data removed]",
      "text/plain": [
       "<Figure size 864x432 with 1 Axes>"
      ]
     },
     "metadata": {},
     "output_type": "display_data"
    }
   ],
   "source": [
    "resort_hotel_meal = data[data['hotel']=='Resort Hotel']['meal']\n",
    "meal_res = dict(collections.Counter(resort_hotel_meal))\n",
    "\n",
    "recipe_labels = np.array(list(meal_res.keys()))\n",
    "recipe_data = np.array(list(meal_res.values()))\n",
    "\n",
    "# 用来规定输出格式的函数\n",
    "def func(pct, allvals):\n",
    "    absolute = int(pct/100.*np.sum(allvals))\n",
    "    return \"{:.1f}%\\n({:d})\".format(pct, absolute)\n",
    "colors=['#06799f', '#4c8e9e','#3aaacf','#33cccc', '#91cdcb']\n",
    "fig, ax = plt.subplots(figsize=(12, 6))\n",
    "wedges, texts, autotexts = ax.pie(x=recipe_data,\n",
    "                                  labels=recipe_labels,\n",
    "                                  autopct=lambda pct: func(pct ,recipe_data),\n",
    "                                  colors=colors,\n",
    "                                  pctdistance=0.7,\n",
    "                                  wedgeprops = {'width': 0.6, 'linewidth': 1, 'edgecolor':'w'}\n",
    "                                  )\n",
    "ax.legend(wedges, recipe_labels,\n",
    "          title=\"legends\",\n",
    "          title_fontsize=15,\n",
    "          fontsize=17,\n",
    "          loc=\"center left\",\n",
    "          bbox_to_anchor=(1, 0, 0.5, 1))\n",
    "\n",
    "plt.setp(autotexts, size=12, weight=\"bold\")\n",
    "ax.set_title(\"city hotel meal\", fontdict={'fontsize':15, 'fontweight':15})\n",
    "plt.show()"
   ]
  },
  {
   "cell_type": "markdown",
   "metadata": {},
   "source": [
    "- 一年中最佳预订时间\n",
    "\n",
    "对于城市酒店，由之前的预订时间数据可以看出，大部分预订时间都是0，1，也就是大部分人都会提前一天或者当天预订，结合城市酒店的功能往往是对于突发情况下需要住宿的人提供服务，因此城市酒店并没有最佳预订时间可言。\n",
    "\n",
    "对于假期酒店，由预定时间可以看出在0~100天之间都是预订较多的时间，并且实际入住率达到了70%，取消情况相对较低，因此尽量在假期来临之前三个月左右预订酒店。"
   ]
  },
  {
   "cell_type": "markdown",
   "metadata": {},
   "source": [
    "- 利用Logistic预测酒店预订\n",
    "\n",
    "数据中提供的全部是预订数据 同时提供了 is_canceled 数据， 结合后面的时间、家庭成员以及餐饮等等数据来看，可以将预订的是否取消作为其他一系列因素的作用结果，即将日期、时常以及成员人数等字段看作特征，共同决定了预订是否取消这一结果"
   ]
  },
  {
   "cell_type": "code",
   "execution_count": 116,
   "metadata": {},
   "outputs": [],
   "source": [
    "from sklearn.model_selection import train_test_split\n",
    "from sklearn.linear_model import LogisticRegression\n",
    "from sklearn.preprocessing import LabelEncoder, StandardScaler\n",
    "from sklearn.metrics import accuracy_score, confusion_matrix"
   ]
  },
  {
   "cell_type": "code",
   "execution_count": 114,
   "metadata": {},
   "outputs": [
    {
     "name": "stdout",
     "output_type": "stream",
     "text": [
      "is_canceled           0\n",
      "hotel                 0\n",
      "arrival_date_month    0\n",
      "total_nights          0\n",
      "total_customer        0\n",
      "dtype: int64\n"
     ]
    }
   ],
   "source": [
    "# 将字符串字段映射为数值\n",
    "data_cp = pd.DataFrame()\n",
    "data_cp[\"is_canceled\"] = data[\"is_canceled\"]\n",
    "data_cp['hotel'] = data['hotel'].map({'Resort Hotel':0, 'City Hotel':1})\n",
    "data_cp['arrival_date_month'] = data['arrival_date_month'].map({'January':1, 'February': 2, 'March':3, 'April':4, 'May':5, 'June':6, 'July':7,\n",
    "                                                            'August':8, 'September':9, 'October':10, 'November':11, 'December':12})\n",
    "data_cp[\"total_nights\"] = data[\"stays_in_weekend_nights\"]+ data[\"stays_in_week_nights\"]\n",
    "data_cp[\"total_customer\"] = data[\"adults\"]+ data[\"babies\"]\n",
    "data_cp.dropna(axis=0, how='any', inplace=True)\n",
    "print(data_cp.isnull().sum())"
   ]
  },
  {
   "cell_type": "code",
   "execution_count": 118,
   "metadata": {},
   "outputs": [
    {
     "name": "stdout",
     "output_type": "stream",
     "text": [
      "Accuracy Score: 0.6254835996635828\n",
      "\n",
      "Confusion Matrix:\n",
      " [[22163   155]\n",
      " [13204   148]]\n"
     ]
    },
    {
     "name": "stderr",
     "output_type": "stream",
     "text": [
      "D:\\Anaconda\\lib\\site-packages\\sklearn\\linear_model\\logistic.py:432: FutureWarning: Default solver will be changed to 'lbfgs' in 0.22. Specify a solver to silence this warning.\n",
      "  FutureWarning)\n"
     ]
    }
   ],
   "source": [
    "# 划分训练以及测试数据集\n",
    "y = data_cp[\"is_canceled\"]\n",
    "X = data_cp.drop([\"is_canceled\"], axis=1)\n",
    "\n",
    "X_train, X_test, y_train, y_test = train_test_split(X, y, test_size = 0.30, random_state = 42)\n",
    "model = LogisticRegression().fit(X_train, y_train)\n",
    "y_pred = model.predict(X_test)\n",
    "\n",
    "print('Accuracy Score: '，accuracy_score(y_test,y_pred))\n"
   ]
  },
  {
   "cell_type": "code",
   "execution_count": null,
   "metadata": {},
   "outputs": [],
   "source": []
  }
 ],
 "metadata": {
  "kernelspec": {
   "display_name": "Python 3",
   "language": "python",
   "name": "python3"
  },
  "language_info": {
   "codemirror_mode": {
    "name": "ipython",
    "version": 3
   },
   "file_extension": ".py",
   "mimetype": "text/x-python",
   "name": "python",
   "nbconvert_exporter": "python",
   "pygments_lexer": "ipython3",
   "version": "3.7.4"
  }
 },
 "nbformat": 4,
 "nbformat_minor": 4
}
