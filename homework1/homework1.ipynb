{
 "cells": [
  {
   "cell_type": "markdown",
   "metadata": {},
   "source": [
    "## 互评作业一：数据探索性分析与数据预处理\n"
   ]
  },
  {
   "cell_type": "markdown",
   "metadata": {},
   "source": [
    "### 1.1 数据可视化和摘要\n",
    "- 数据摘要：\n",
    "  - 标称属性给出聚会频数\n",
    "  - 数值属性给出五数概括以及缺失值个数\n",
    "- 数据可视化：\n",
    "  使用直方图和盒图检查数据分布以及离群点"
   ]
  },
  {
   "cell_type": "markdown",
   "metadata": {},
   "source": [
    "对于第一个数据集：Oakland Crime Statistics 2011 to 2016 数据集，共有这些属性：'Agency' 'Create Time' 'Location' 'Area Id' 'Beat' 'Priority''Incident Type Id' 'Incident Type Description' 'Event Number''Closed Time'，其中Agency是数据收集来源单位，在这里所有的来源都是OP，Location 和 Area Id 数据是相关的（location对应唯一的areaid），Incident Type Id和Incident Type Description是一一对应的，除去agency所有值唯一不考虑，数值属性以及标称属性有：\n",
    "- 数值属性：Create Time 和 Closed Time\n",
    "- 标称属性： Location(Area Id), Beat, Priority, Incident Type Id(Incident Type Decription)， Event Number\n",
    "这里使用的是 records_for_2011.csv中的数据"
   ]
  },
  {
   "cell_type": "code",
   "execution_count": 2,
   "metadata": {},
   "outputs": [],
   "source": [
    "import pandas as pd\n",
    "from collections import Counter\n",
    "import numpy as np\n",
    "from datetime import timedelta\n",
    "import matplotlib.pyplot as plt\n",
    "\n",
    "class data_process():\n",
    "    \"\"\"\n",
    "    统计数据不同属性的频数以及计算五数概括以及绘制box-plot和histogram-plot\n",
    "    \"\"\"\n",
    "    def __init__(self, filename):\n",
    "        self.data = pd.read_csv(filename)\n",
    "        self.columns_name = self.data.columns.values\n",
    "        self.agency_data = self.data['Agency']\n",
    "        self.create_time_data = self.data['Create Time']\n",
    "        self.location_data = self.data['Location']\n",
    "        self.area_id_data = self.data['Area Id']\n",
    "        self.beat_data = self.data['Beat']\n",
    "        self.priority_data = self.data['Priority']\n",
    "        self.incident_id_data = self.data['Incident Type Id']\n",
    "        self.incident_type_description_data = self.data['Incident Type Description']\n",
    "        self.event_number_data = self.data['Event Number']\n",
    "        self.closed_time_data = self.data['Closed Time']\n",
    "\n",
    "    def print_data_count(self):\n",
    "        \"\"\"\n",
    "        统计，打印不同属性的最大频数\n",
    "        \"\"\"\n",
    "        print(\"Location & Area Id:\", Counter(self.location_data).most_common(1))\n",
    "        print(\"Beat:\", Counter(self.beat_data).most_common(1))\n",
    "        print(\"Priority:\", Counter(self.priority_data).most_common(1))\n",
    "        print(\"Incident Type & Incident Type Description:\", Counter(self.incident_id_data).most_common(1))\n",
    "        \n",
    "    def print_five_number_summary(self):\n",
    "        \"\"\"\n",
    "        对于于数据中的时间 这里保留的是精确到天的数据 没有使用具体时分秒的数据\n",
    "        由于这是时间数据，没有找到直接比较大小之类的方法 所以我在这里取定一个时间点\n",
    "        将其他的日期数据转化为距离这个时间的天数 这样方便比较大小以及得到分位数等信息\n",
    "        \"\"\"\n",
    "        self.create_time_data = [str(string).split('T')[0] for string in self.create_time_data]\n",
    "        self.create_time_data = pd.to_datetime(self.create_time_data)\n",
    "        start = pd.datetime(2010, 1, 1)\n",
    "        self.days_data = [(time - start).days for time in self.create_time_data][:-1]\n",
    "        self.sorted_days_data = sorted(self.days_data)\n",
    "#         self.create_time_data = pd.to_datetime(self.create_time_data)\n",
    "#         print(self.create_time_data[0])\n",
    "#         print(type(self.create_time_data[0]))\n",
    "\n",
    "        # 排序后计算最大最小以及四分位数等五数概括数据\n",
    "        total = len(self.sorted_days_data)\n",
    "        min_data = self.sorted_days_data[0]\n",
    "        max_data = self.sorted_days_data[total - 2]\n",
    "        Q1 = self.sorted_days_data[int(total/4)]\n",
    "        mid = self.sorted_days_data[int(total/2)]\n",
    "        Q3 = self.sorted_days_data[int(3*total/4)]\n",
    "        print(\"Min: \", start + timedelta(min_data))\n",
    "        print(\"Q1: \", start + timedelta(Q1))\n",
    "        print(\"mid: \", start + timedelta(mid))\n",
    "        print(\"Q3: \", start + timedelta(Q3))\n",
    "        print(\"Max: \",start + timedelta(max_data))\n",
    "        \n",
    "    def box_plot(self):\n",
    "        \"\"\"\n",
    "        绘制 box-plot\n",
    "        \"\"\"\n",
    "        plt.boxplot(self.days_data)\n",
    "        plt.show()\n",
    "        \n",
    "    def hist_plot(self):\n",
    "        \"\"\"\n",
    "        绘制 histogram-plot\n",
    "        \"\"\"\n",
    "#         cou = dict(Counter(self.days_data))\n",
    "        groups = [365, 365+30, 365+30*2, 365+30*3, 365+30*4, 365+30*5, 365+30*6, 365+30*7, 365+30*8, 365+30*9, 365+30*10, 365+30*11, 365+30*12, 365+30*13]\n",
    "        plt.hist(self.days_data, groups, histtype='bar', rwidth=0.8)\n",
    "        plt.show()\n",
    "        \n",
    "    def nan_count(self):\n",
    "        \"\"\"\n",
    "        统计某一种属性有多少空值 这里针对数值属性中的 create time进行统计（其他事标称属性）\n",
    "        \"\"\"\n",
    "        nan_cou = self.create_time_data().isnull().sum()\n",
    "        print(\"Create_time None value count: \", res)\n",
    "     "
   ]
  },
  {
   "cell_type": "code",
   "execution_count": 10,
   "metadata": {},
   "outputs": [
    {
     "name": "stdout",
     "output_type": "stream",
     "text": [
      "Location & Area Id: [(' INTERNATIONAL BLVD ', 3866)]\n",
      "Beat: [('04X', 7410)]\n",
      "Priority: [(2.0, 143314)]\n",
      "Incident Type & Incident Type Description: [('933R', 17348)]\n"
     ]
    }
   ],
   "source": [
    "filename1 = \"oakland_crimes/records-for-2011.csv\"\n",
    "data_obj1 = data_process(filename1)\n",
    "# 标称属性的频数统计\n",
    "data_obj1.print_data_count()"
   ]
  },
  {
   "cell_type": "code",
   "execution_count": 11,
   "metadata": {},
   "outputs": [
    {
     "name": "stdout",
     "output_type": "stream",
     "text": [
      "Min:  2011-01-01 00:00:00\n",
      "Q1:  2011-04-05 00:00:00\n",
      "mid:  2011-07-03 00:00:00\n",
      "Q3:  2011-09-28 00:00:00\n",
      "Max:  2011-12-31 00:00:00\n"
     ]
    }
   ],
   "source": [
    "# 数值属性 create time 的五数概括\n",
    "data_obj1.print_five_number_summary()"
   ]
  },
  {
   "cell_type": "code",
   "execution_count": 50,
   "metadata": {},
   "outputs": [
    {
     "data": {
      "image/png": "[encoded data removed]",
      "text/plain": [
       "<Figure size 432x288 with 1 Axes>"
      ]
     },
     "metadata": {
      "needs_background": "light"
     },
     "output_type": "display_data"
    }
   ],
   "source": [
    "# box plot 结果 这个数据集的数值属性只有两个日期数据，这里只是对 create_time 进行绘图\n",
    "data_obj1.box_plot()"
   ]
  },
  {
   "cell_type": "code",
   "execution_count": 51,
   "metadata": {},
   "outputs": [
    {
     "data": {
      "image/png": "[encoded data removed]",
      "text/plain": [
       "<Figure size 432x288 with 1 Axes>"
      ]
     },
     "metadata": {
      "needs_background": "light"
     },
     "output_type": "display_data"
    }
   ],
   "source": [
    "#直方图结果\n",
    "data_obj1.hist_plot()"
   ]
  },
  {
   "cell_type": "markdown",
   "metadata": {},
   "source": [
    "对于第二个数据集：Consumer & Visitor Insights For Neighborhoods 数据集\n",
    "- 标称属性： related_same_month_brand, top_brand,\n",
    "- 数值属性：raw_visit_count, raw_visitor_count, distance_from_home, census_block_group,date_range_start,data_range_end等"
   ]
  },
  {
   "cell_type": "code",
   "execution_count": 90,
   "metadata": {},
   "outputs": [],
   "source": [
    "import pandas as pd\n",
    "from collections import Counter\n",
    "import numpy as np\n",
    "from datetime import timedelta\n",
    "import matplotlib.pyplot as plt\n",
    "\n",
    "class data_process():\n",
    "    \"\"\"\n",
    "    与上个数据集的处理基本一致\n",
    "    \"\"\"\n",
    "    def __init__(self, filename):\n",
    "        self.data = pd.read_csv(filename)\n",
    "        self.columns_name = self.data.columns.values\n",
    "        self.sensus_block_group_data = self.data['census_block_group']\n",
    "        self.data_range_start__data = self.data['date_range_start']\n",
    "        self.data_range_end_data = self.data['date_range_end']\n",
    "        self.raw_visit_count_data = self.data['raw_visit_count']\n",
    "        self.raw_visitor_count_data = self.data['raw_visitor_count']\n",
    "        self.visitor_home_cbgs_data = self.data['visitor_home_cbgs']\n",
    "        self.isitor_work_cbgs_data = self.data['visitor_work_cbgs']\n",
    "        self.distance_from_home_data = self.data['distance_from_home']\n",
    "        self.related_same_day_brand_data = self.data['related_same_day_brand']\n",
    "        self.related_same_month_brand_data = self.data['related_same_month_brand']\n",
    "        self.top_brands_data = self.data['top_brands']\n",
    "        self.popularity_by_hour_data = self.data['popularity_by_hour']\n",
    "        self.popularity_by_day_data = self.data['popularity_by_day']\n",
    "        \n",
    "\n",
    "    def print_data_count(self):\n",
    "        print(\"sensus_block_group: \", Counter(self.sensus_block_group_data).most_common(1))\n",
    "        print(\"Raw visit count: \", Counter(self.raw_visit_count_data).most_common(1))\n",
    "        print(\"Raw visitor count: \", Counter(self.raw_visitor_count_data).most_common(1))\n",
    "        \n",
    "    def print_five_number_summary(self):\n",
    "        print(\"For raw visit count:\")\n",
    "        self.raw_visit_count_data = self.raw_visit_count_data.fillna(100)\n",
    "        total = len(self.raw_visit_count_data)\n",
    "        self.sorted_visit_data = sorted(self.raw_visit_count_data)\n",
    "        min_data = self.sorted_visit_data[0]\n",
    "        max_data = self.sorted_visit_data[total - 1]\n",
    "        Q1 = self.sorted_visit_data[int(total/4)]\n",
    "        mid = self.sorted_visit_data[int(total/2)]\n",
    "        Q3 = self.sorted_visit_data[int(3*total/4)]\n",
    "        print(\"Min: \", min_data)\n",
    "        print(\"Q1: \", Q1)\n",
    "        print(\"mid: \", mid)\n",
    "        print(\"Q3: \", Q3)\n",
    "        print(\"Max: \",max_data)\n",
    "        print(\"For raw visitor count:\")\n",
    "        self.raw_visitor_count_data = self.raw_visitor_count_data.fillna(100)\n",
    "        total = len(self.raw_visitor_count_data)\n",
    "        self.sorted_visitor_data = sorted(self.raw_visitor_count_data)\n",
    "        min_data = self.sorted_visitor_data[0]\n",
    "        max_data = self.sorted_visitor_data[total - 1]\n",
    "        Q1 = self.sorted_visitor_data[int(total/4)]\n",
    "        mid = self.sorted_visitor_data[int(total/2)]\n",
    "        Q3 = self.sorted_visitor_data[int(3*total/4)]\n",
    "        print(\"Min: \", min_data)\n",
    "        print(\"Q1: \", Q1)\n",
    "        print(\"mid: \", mid)\n",
    "        print(\"Q3: \", Q3)\n",
    "        print(\"Max: \",max_data)\n",
    "        \n",
    "    def box_plot_raw_visit(self):\n",
    "        plt.boxplot(self.raw_visit_count_data)\n",
    "        plt.show()\n",
    "        \n",
    "    def box_plot_raw_visitor(self):\n",
    "        plt.boxplot(self.raw_visitor_count_data)\n",
    "        plt.show()\n",
    "        \n",
    "    def hist_plot_raw_visit(self):\n",
    "#         cou = dict(Counter(self.days_data))\n",
    "        groups = [10000, 20000, 30000, 40000, 50000, 60000, 70000,  80000, 90000, 100000]\n",
    "        plt.hist(self.raw_visit_count_data, groups, histtype='bar', rwidth=0.8)\n",
    "        plt.show()\n",
    "        \n",
    "    def hist_plot_raw_visitor(self):\n",
    "#         cou = dict(Counter(self.days_data))\n",
    "        groups = [10000, 20000, 30000, 40000, 50000, 60000, 70000,  80000, 90000, 100000]\n",
    "        plt.hist(self.raw_visitor_count_data, groups, histtype='bar', rwidth=0.8)\n",
    "        plt.show()"
   ]
  },
  {
   "cell_type": "code",
   "execution_count": 91,
   "metadata": {},
   "outputs": [
    {
     "name": "stdout",
     "output_type": "stream",
     "text": [
      "sensus_block_group:  [(10059508001.0, 1)]\n",
      "Raw visit count:  [(24531.0, 15)]\n",
      "Raw visitor count:  [(2292.0, 39)]\n"
     ]
    }
   ],
   "source": [
    "filename2 = \"visit/cbg_patterns.csv\"\n",
    "data_visit = data_process(filename2)\n",
    "data_visit.print_data_count()"
   ]
  },
  {
   "cell_type": "code",
   "execution_count": 80,
   "metadata": {},
   "outputs": [
    {
     "name": "stdout",
     "output_type": "stream",
     "text": [
      "For raw visit count:\n",
      "Min:  60.0\n",
      "Q1:  17027.0\n",
      "mid:  30625.0\n",
      "Q3:  56652.0\n",
      "Max:  7179900.0\n",
      "For raw visitor count:\n",
      "Min:  50.0\n",
      "Q1:  3426.0\n",
      "mid:  6536.0\n",
      "Q3:  13092.0\n",
      "Max:  6113949.0\n"
     ]
    }
   ],
   "source": [
    "data_visit.print_five_number_summary()"
   ]
  },
  {
   "cell_type": "code",
   "execution_count": 81,
   "metadata": {},
   "outputs": [
    {
     "data": {
      "image/png": "[encoded data removed]",
      "text/plain": [
       "<Figure size 432x288 with 1 Axes>"
      ]
     },
     "metadata": {
      "needs_background": "light"
     },
     "output_type": "display_data"
    }
   ],
   "source": [
    "# 这里计算使用的属性是 raw_visit_count 以及 raw_visitor_count（数值属性实在是太多了。。。）\n",
    "data_visit.box_plot_raw_visit()"
   ]
  },
  {
   "cell_type": "code",
   "execution_count": 82,
   "metadata": {},
   "outputs": [
    {
     "data": {
      "image/png": "[encoded data removed]",
      "text/plain": [
       "<Figure size 432x288 with 1 Axes>"
      ]
     },
     "metadata": {
      "needs_background": "light"
     },
     "output_type": "display_data"
    }
   ],
   "source": [
    "data_visit.box_plot_raw_visitor()"
   ]
  },
  {
   "cell_type": "code",
   "execution_count": 88,
   "metadata": {},
   "outputs": [
    {
     "data": {
      "image/png": "[encoded data removed]",
      "text/plain": [
       "<Figure size 432x288 with 1 Axes>"
      ]
     },
     "metadata": {
      "needs_background": "light"
     },
     "output_type": "display_data"
    }
   ],
   "source": [
    "data_visit.hist_plot_raw_visit()"
   ]
  },
  {
   "cell_type": "code",
   "execution_count": 92,
   "metadata": {},
   "outputs": [
    {
     "data": {
      "image/png": "[encoded data removed]",
      "text/plain": [
       "<Figure size 432x288 with 1 Axes>"
      ]
     },
     "metadata": {
      "needs_background": "light"
     },
     "output_type": "display_data"
    }
   ],
   "source": [
    "data_visit.hist_plot_raw_visitor()"
   ]
  },
  {
   "cell_type": "markdown",
   "metadata": {},
   "source": [
    "### 1.2 数据缺失的处理\n",
    "观察数据的缺失情况，分析缺失的原因，并使用四种方法处理缺失数据：\n",
    "- 将缺失数据剔除\n",
    "- 使用最高频率值填补缺失数据\n",
    "- 通过属性的相关关系填补缺失数据\n",
    "- 通过数据对象的属性相似性来填补缺失值\n",
    "\n",
    "可视化对比填补前后的数据"
   ]
  },
  {
   "cell_type": "markdown",
   "metadata": {},
   "source": [
    "通过属性的相关关系以及属性相似性填补的方法没有找到资料 所以没有给出方法\n",
    "对于第一个数据集的处理："
   ]
  },
  {
   "cell_type": "code",
   "execution_count": 43,
   "metadata": {},
   "outputs": [],
   "source": [
    "class Process_missing_data:\n",
    "    \"\"\"\n",
    "    用于处理缺失数据\n",
    "    \"\"\"\n",
    "    def __init__(self, filename):\n",
    "        self.data = pd.read_csv(filename)\n",
    "        self.columns_name = self.data.columns.values\n",
    "        self.agency_data = self.data['Agency']\n",
    "        self.create_time_data = self.data['Create Time']\n",
    "        self.location_data = self.data['Location']\n",
    "        self.area_id_data = self.data['Area Id']\n",
    "        self.beat_data = self.data['Beat']\n",
    "        self.priority_data = self.data['Priority']\n",
    "        self.incident_id_data = self.data['Incident Type Id']\n",
    "        self.incident_type_description_data = self.data['Incident Type Description']\n",
    "        self.event_number_data = self.data['Event Number']\n",
    "        self.closed_time_data = self.data['Closed Time']\n",
    "        \n",
    "    def print_attr(self):\n",
    "        print(self.columns_name)\n",
    "        \n",
    "    def check_missing_data(self):\n",
    "        \"\"\"\n",
    "        检查哪些属性下的数据又缺失值\n",
    "        \"\"\"\n",
    "#       isnull().value_counts()\n",
    "        print(\"Check for missing data in attributes:\")\n",
    "        temp_res = self.agency_data.isnull()\n",
    "        print('Agency: ', 'Exist' if True in set(temp_res) else 'Not exist')\n",
    "        temp_res = self.create_time_data.isnull()\n",
    "        print('Create Time Data: ', 'Exist' if True in set(temp_res) else 'Not exist')\n",
    "        temp_res = self.location_data.isnull()\n",
    "        print('Location: ', 'Exist' if True in set(temp_res) else 'Not exist')\n",
    "        temp_res = self.beat_data.isnull()\n",
    "        print('Beat: ', 'Exist' if True in set(temp_res) else 'Not exist')\n",
    "        temp_res = self.priority_data.isnull()\n",
    "        print('Priority: ', 'Exist' if True in set(temp_res) else 'Not exist')\n",
    "        temp_res = self.incident_id_data.isnull()\n",
    "        print('Incident id: ', 'Exist' if True in set(temp_res) else 'Not exist')\n",
    "        temp_res = self.closed_time_data.isnull()\n",
    "        print('Closed time data: ', 'Exist' if True in set(temp_res) else 'Not exist')\n",
    "        \n",
    "    def data_completion_delete(self):\n",
    "        \"\"\"\n",
    "        直接删除缺失数据\n",
    "        \"\"\"\n",
    "        self.agency_data = self.agency_data.dropna()\n",
    "        self.create_time_data = self.create_time_data.dropna()\n",
    "#         print(self.create_time_data.isnull().value_counts())\n",
    "        self.beat_data = self.beat_data.dropna()\n",
    "        self.priority_data = self.priority_data.dropna()\n",
    "        self.incident_id_data = self.incident_id_data.dropna()\n",
    "        self.closed_time_data = self.closed_time_data.dropna()\n",
    "        print(\"Completion by deleting Nan value end.\")\n",
    "        \n",
    "    def data_completion_common_freq(self):\n",
    "        \"\"\"\n",
    "        使用属性最大频数的数值来填充\n",
    "        \"\"\"\n",
    "        self.agency_data = self.agency_data.fillna('OP')\n",
    "        self.create_time_data = self.create_time_data.fillna(list(dict(Counter(self.create_time_data).most_common(1)).keys())[0])\n",
    "        self.beat_data = self.beat_data.fillna(list(dict(Counter(self.beat_data).most_common(1)).keys())[0])\n",
    "        self.priority_data = self.priority_data.fillna(list(dict(Counter(self.priority_data).most_common(1)).keys())[0])\n",
    "        self.incident_id_data = self.incident_id_data.fillna(list(dict(Counter(self.incident_id_data).most_common(1)).keys())[0])\n",
    "        self.closed_time_data = self.closed_time_data.fillna(list(dict(Counter(self.closed_time_data).most_common(1)).keys())[0])\n",
    "        print(\"Completion by the most highest frequency value end.\")\n",
    "        \n",
    "    def data_completion_relation(self):\n",
    "        return False\n",
    "    \n",
    "    def data_completion_similarity(self):\n",
    "        return False\n",
    "    \n",
    "#   这里数据可视化了两个属性 beat 和 priority 的频数统计图\n",
    "    def plot_beat(self):\n",
    "        plt.figure(figsize=(15, 5))\n",
    "        res = dict(Counter(self.beat_data))\n",
    "        print(len(res))\n",
    "        res_date = list(res.keys())[::]\n",
    "        res_count = list(res.values())[::]\n",
    "        plt.bar(res_date, res_count)\n",
    "        plt.xticks(rotation=45)\n",
    "        plt.show() \n",
    "    def plot_priority(self):\n",
    "        res = dict(Counter(self.priority_data))\n",
    "        print(len(res))\n",
    "        res_date = list(res.keys())[::]\n",
    "        res_count = list(res.values())[::]\n",
    "        plt.bar(res_date, res_count)\n",
    "        plt.xticks(rotation=45)\n",
    "        plt.show() \n",
    "        "
   ]
  },
  {
   "cell_type": "code",
   "execution_count": 44,
   "metadata": {},
   "outputs": [
    {
     "name": "stdout",
     "output_type": "stream",
     "text": [
      "Check for missing data in attributes:\n",
      "Agency:  Exist\n",
      "Create Time Data:  Exist\n",
      "Location:  Not exist\n",
      "Beat:  Exist\n",
      "Priority:  Exist\n",
      "Incident id:  Exist\n",
      "Closed time data:  Exist\n"
     ]
    }
   ],
   "source": [
    "filename1 = \"oakland_crimes/records-for-2011.csv\"\n",
    "data_2011 = Process_missing_data(filename1)\n",
    "# 检查不同属性的缺失值存在情况\n",
    "data_2011.check_missing_data()"
   ]
  },
  {
   "cell_type": "code",
   "execution_count": 45,
   "metadata": {},
   "outputs": [
    {
     "name": "stdout",
     "output_type": "stream",
     "text": [
      "Completion by deleting Nan value end.\n"
     ]
    }
   ],
   "source": [
    "data_2011.data_completion_delete()"
   ]
  },
  {
   "cell_type": "code",
   "execution_count": 46,
   "metadata": {},
   "outputs": [
    {
     "name": "stdout",
     "output_type": "stream",
     "text": [
      "58\n"
     ]
    },
    {
     "data": {
      "image/png": "[encoded data removed]",
      "text/plain": [
       "<Figure size 1080x360 with 1 Axes>"
      ]
     },
     "metadata": {
      "needs_background": "light"
     },
     "output_type": "display_data"
    }
   ],
   "source": [
    "data_2011.plot_beat()"
   ]
  },
  {
   "cell_type": "code",
   "execution_count": 36,
   "metadata": {},
   "outputs": [
    {
     "name": "stdout",
     "output_type": "stream",
     "text": [
      "Completion by the most highest frequency value end.\n"
     ]
    }
   ],
   "source": [
    "data_2011.data_completion_common_freq()"
   ]
  },
  {
   "cell_type": "code",
   "execution_count": 38,
   "metadata": {},
   "outputs": [
    {
     "name": "stdout",
     "output_type": "stream",
     "text": [
      "3\n"
     ]
    },
    {
     "data": {
      "image/png": "[encoded data removed]",
      "text/plain": [
       "<Figure size 432x288 with 1 Axes>"
      ]
     },
     "metadata": {
      "needs_background": "light"
     },
     "output_type": "display_data"
    }
   ],
   "source": [
    "data_2011.plot_priority()"
   ]
  },
  {
   "cell_type": "markdown",
   "metadata": {},
   "source": [
    "第二个数据集的缺失值处理"
   ]
  },
  {
   "cell_type": "code",
   "execution_count": 3,
   "metadata": {},
   "outputs": [],
   "source": [
    "class data_missing_process():\n",
    "    \"\"\"\n",
    "    第二个数据集的处理方法 与之前类似\n",
    "    \"\"\"\n",
    "    def __init__(self, filename):\n",
    "        self.data = pd.read_csv(filename)\n",
    "        self.columns_name = self.data.columns.values\n",
    "        self.sensus_block_group_data = self.data['census_block_group']\n",
    "        self.data_range_start_data = self.data['date_range_start']\n",
    "        self.data_range_end_data = self.data['date_range_end']\n",
    "        self.raw_visit_count_data = self.data['raw_visit_count']\n",
    "        self.raw_visitor_count_data = self.data['raw_visitor_count']\n",
    "        self.visitor_home_cbgs_data = self.data['visitor_home_cbgs']\n",
    "        self.isitor_work_cbgs_data = self.data['visitor_work_cbgs']\n",
    "        self.distance_from_home_data = self.data['distance_from_home']\n",
    "        self.related_same_day_brand_data = self.data['related_same_day_brand']\n",
    "        self.related_same_month_brand_data = self.data['related_same_month_brand']\n",
    "        self.top_brands_data = self.data['top_brands']\n",
    "        self.popularity_by_hour_data = self.data['popularity_by_hour']\n",
    "        self.popularity_by_day_data = self.data['popularity_by_day']\n",
    "        \n",
    "\n",
    "    def check_missing_data(self):\n",
    "#       isnull().value_counts()\n",
    "        print(\"Check for missing data in attributes:\")\n",
    "        temp_res = self.sensus_block_group_data.isnull()\n",
    "        print('Census Block Group: ', 'Exist' if True in set(temp_res) else 'Not exist')\n",
    "        temp_res = self.data_range_start_data.isnull()\n",
    "        print('Data Range Start: ', 'Exist' if True in set(temp_res) else 'Not exist')\n",
    "        temp_res = self.data_range_end_data.isnull()\n",
    "        print('Data Range End: ', 'Exist' if True in set(temp_res) else 'Not exist')\n",
    "        temp_res = self.raw_visit_count_data.isnull()\n",
    "        print('Raw Visit Count Data: ', 'Exist' if True in set(temp_res) else 'Not exist')\n",
    "        temp_res = self.raw_visitor_count_data.isnull()\n",
    "        print('Raw Visitor Count Data: ', 'Exist' if True in set(temp_res) else 'Not exist')\n",
    "        temp_res = self.visitor_home_cbgs_data.isnull()\n",
    "        print('Visitor Home cbgs Data: ', 'Exist' if True in set(temp_res) else 'Not exist')\n",
    "        temp_res = self.distance_from_home_data.isnull()\n",
    "        print('Distance from Home data: ', 'Exist' if True in set(temp_res) else 'Not exist')\n",
    "        \n",
    "    def data_completion_delete(self):\n",
    "        self.raw_visit_count_data = self.raw_visit_count_data.dropna()\n",
    "        self.raw_visitor_count_data = self.raw_visitor_count_data.dropna()\n",
    "#         print(self.create_time_data.isnull().value_counts())\n",
    "        self.data_range_start_data = self.data_range_start_data.dropna()\n",
    "        self.data_range_end_data = self.data_range_end_data.dropna()\n",
    "        self.distance_from_home_data = self.distance_from_home_data.dropna()\n",
    "        self.visitor_home_cbgs_data = self.visitor_home_cbgs_data.dropna()\n",
    "        print(\"Completion by deleting Nan value end.\")\n",
    "        \n",
    "    def data_completion_common_freq(self):\n",
    "        self.raw_visit_count_data = self.raw_visit_count_data.fillna(list(dict(Counter(self.raw_visit_count_data).most_common(1)).keys())[0])\n",
    "        self.raw_visitor_count_data = self.raw_visitor_count_data.fillna(list(dict(Counter(self.raw_visitor_count_data).most_common(1)).keys())[0])\n",
    "        self.data_range_start_data = self.data_range_start_data.fillna(list(dict(Counter(self.data_range_start_data).most_common(1)).keys())[0])\n",
    "        self.data_range_end_data = self.data_range_end_data.fillna(list(dict(Counter(self.data_range_end_data).most_common(1)).keys())[0])\n",
    "        self.distance_from_home_data = self.distance_from_home_data.fillna(list(dict(Counter(self.distance_from_home_data).most_common(1)).keys())[0])\n",
    "        print(\"Completion by the most highest frequency value end.\")\n",
    "        \n",
    "    def data_completion_relation(self):\n",
    "        return False\n",
    "    \n",
    "    def data_completion_similarity(self):\n",
    "        return False\n",
    "        \n",
    "    def hist_plot_raw_visit(self):\n",
    "#         cou = dict(Counter(self.days_data))\n",
    "        groups = [10000, 20000, 30000, 40000, 50000, 60000, 70000,  80000, 90000, 100000]\n",
    "        plt.hist(self.raw_visit_count_data, groups, histtype='bar', rwidth=0.8)\n",
    "        plt.show()\n",
    "        \n",
    "    def hist_plot_raw_visitor(self):\n",
    "#         cou = dict(Counter(self.days_data))\n",
    "        groups = [10000, 20000, 30000, 40000, 50000, 60000, 70000,  80000, 90000, 100000]\n",
    "        plt.hist(self.raw_visitor_count_data, groups, histtype='bar', rwidth=0.8)\n",
    "        plt.show()"
   ]
  },
  {
   "cell_type": "code",
   "execution_count": 4,
   "metadata": {},
   "outputs": [
    {
     "name": "stdout",
     "output_type": "stream",
     "text": [
      "Check for missing data in attributes:\n",
      "Census Block Group:  Exist\n",
      "Data Range Start:  Not exist\n",
      "Data Range End:  Not exist\n",
      "Raw Visit Count Data:  Exist\n",
      "Raw Visitor Count Data:  Exist\n",
      "Visitor Home cbgs Data:  Not exist\n",
      "Distance from Home data:  Exist\n"
     ]
    }
   ],
   "source": [
    "filename = \"visit/cbg_patterns.csv\"\n",
    "data_visit = data_missing_process(filename)\n",
    "data_visit.check_missing_data()"
   ]
  },
  {
   "cell_type": "code",
   "execution_count": 6,
   "metadata": {},
   "outputs": [
    {
     "name": "stdout",
     "output_type": "stream",
     "text": [
      "Completion by deleting Nan value end.\n"
     ]
    }
   ],
   "source": [
    "data_visit.data_completion_delete()"
   ]
  },
  {
   "cell_type": "code",
   "execution_count": 7,
   "metadata": {},
   "outputs": [
    {
     "name": "stdout",
     "output_type": "stream",
     "text": [
      "Completion by the most highest frequency value end.\n"
     ]
    }
   ],
   "source": [
    "data_visit.data_completion_common_freq()"
   ]
  },
  {
   "cell_type": "code",
   "execution_count": 8,
   "metadata": {},
   "outputs": [
    {
     "data": {
      "image/png": "[encoded data removed]",
      "text/plain": [
       "<Figure size 432x288 with 1 Axes>"
      ]
     },
     "metadata": {
      "needs_background": "light"
     },
     "output_type": "display_data"
    }
   ],
   "source": [
    "data_visit.hist_plot_raw_visit()"
   ]
  },
  {
   "cell_type": "code",
   "execution_count": 9,
   "metadata": {},
   "outputs": [
    {
     "data": {
      "image/png": "[encoded data removed]",
      "text/plain": [
       "<Figure size 432x288 with 1 Axes>"
      ]
     },
     "metadata": {
      "needs_background": "light"
     },
     "output_type": "display_data"
    }
   ],
   "source": [
    "data_visit.hist_plot_raw_visitor()"
   ]
  },
  {
   "cell_type": "code",
   "execution_count": null,
   "metadata": {},
   "outputs": [],
   "source": []
  }
 ],
 "metadata": {
  "kernelspec": {
   "display_name": "Python 3",
   "language": "python",
   "name": "python3"
  },
  "language_info": {
   "codemirror_mode": {
    "name": "ipython",
    "version": 3
   },
   "file_extension": ".py",
   "mimetype": "text/x-python",
   "name": "python",
   "nbconvert_exporter": "python",
   "pygments_lexer": "ipython3",
   "version": "3.7.4"
  }
 },
 "nbformat": 4,
 "nbformat_minor": 4
}
